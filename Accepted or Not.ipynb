{
 "cells": [
  {
   "cell_type": "code",
   "execution_count": 11,
   "id": "80014653",
   "metadata": {},
   "outputs": [],
   "source": [
    "import pandas as pd\n",
    "import numpy as np\n",
    "import matplotlib.pyplot as plt"
   ]
  },
  {
   "cell_type": "code",
   "execution_count": 3,
   "id": "f3eed7bf",
   "metadata": {},
   "outputs": [
    {
     "name": "stdout",
     "output_type": "stream",
     "text": [
      "      test1     test2  accepted\n",
      "0  0.051267  0.699560         1\n",
      "1 -0.092742  0.684940         1\n",
      "2 -0.213710  0.692250         1\n",
      "3 -0.375000  0.502190         1\n",
      "4 -0.513250  0.465640         1\n",
      "5 -0.524770  0.209800         1\n",
      "6 -0.398040  0.034357         1\n",
      "7 -0.305880 -0.192250         1\n",
      "8  0.016705 -0.404240         1\n",
      "9  0.131910 -0.513890         1\n",
      "            test1       test2    accepted\n",
      "count  118.000000  118.000000  118.000000\n",
      "mean     0.054779    0.183102    0.491525\n",
      "std      0.496654    0.519743    0.502060\n",
      "min     -0.830070   -0.769740    0.000000\n",
      "25%     -0.372120   -0.254385    0.000000\n",
      "50%     -0.006336    0.213455    0.000000\n",
      "75%      0.478970    0.646563    1.000000\n",
      "max      1.070900    1.108900    1.000000\n"
     ]
    }
   ],
   "source": [
    "#import data file and print it\n",
    "data = pd.read_csv(\"data.txt\" , header = None , names = [\"test1\" , \"test2\",\"accepted\"])\n",
    "print(data.head(10))\n",
    "print(data.describe())"
   ]
  },
  {
   "cell_type": "code",
   "execution_count": 7,
   "id": "ef757e70",
   "metadata": {},
   "outputs": [
    {
     "name": "stdout",
     "output_type": "stream",
     "text": [
      "positive = \n",
      "       test1     test2  accepted\n",
      "0  0.051267  0.699560         1\n",
      "1 -0.092742  0.684940         1\n",
      "2 -0.213710  0.692250         1\n",
      "3 -0.375000  0.502190         1\n",
      "4 -0.513250  0.465640         1\n",
      "5 -0.524770  0.209800         1\n",
      "6 -0.398040  0.034357         1\n",
      "7 -0.305880 -0.192250         1\n",
      "8  0.016705 -0.404240         1\n",
      "9  0.131910 -0.513890         1\n",
      "\n",
      "\n",
      "negative = \n",
      "       test1     test2  accepted\n",
      "58  0.18376  0.933480         0\n",
      "59  0.22408  0.779970         0\n",
      "60  0.29896  0.619150         0\n",
      "61  0.50634  0.758040         0\n",
      "62  0.61578  0.728800         0\n",
      "63  0.60426  0.597220         0\n",
      "64  0.76555  0.502190         0\n",
      "65  0.92684  0.363300         0\n",
      "66  0.82316  0.275580         0\n",
      "67  0.96141  0.085526         0\n"
     ]
    }
   ],
   "source": [
    "#seperate positive and negative data\n",
    "positive = data[data[\"accepted\"] == 1]\n",
    "negative = data[data[\"accepted\"] == 0]\n",
    "\n",
    "print(\"positive = \\n\" , positive.head(10))\n",
    "print(\"\\n\\nnegative = \\n\" , negative.head(10))"
   ]
  },
  {
   "cell_type": "code",
   "execution_count": 15,
   "id": "e0469d35",
   "metadata": {},
   "outputs": [
    {
     "data": {
      "text/plain": [
       "Text(0, 0.5, 'test2')"
      ]
     },
     "execution_count": 15,
     "metadata": {},
     "output_type": "execute_result"
    },
    {
     "data": {
      "image/png": "[encoded data removed]",
      "text/plain": [
       "<Figure size 576x360 with 1 Axes>"
      ]
     },
     "metadata": {
      "needs_background": "light"
     },
     "output_type": "display_data"
    }
   ],
   "source": [
    "fig,ax = plt.subplots(figsize = (8,5))\n",
    "ax.scatter(positive[\"test1\"] ,positive[\"test2\"] , c = \"b\" , marker = \"o\" , label = \"accepted\")\n",
    "ax.scatter(negative[\"test1\"] , negative[\"test2\"] , c = \"r\" , marker = \"x\" , label = \"rejected\")\n",
    "ax.legend()\n",
    "ax.set_xlabel(\"test1\")\n",
    "ax.set_ylabel(\"test2\")"
   ]
  },
  {
   "cell_type": "code",
   "execution_count": null,
   "id": "0f5c815f",
   "metadata": {},
   "outputs": [],
   "source": []
  }
 ],
 "metadata": {
  "kernelspec": {
   "display_name": "Python 3",
   "language": "python",
   "name": "python3"
  },
  "language_info": {
   "codemirror_mode": {
    "name": "ipython",
    "version": 3
   },
   "file_extension": ".py",
   "mimetype": "text/x-python",
   "name": "python",
   "nbconvert_exporter": "python",
   "pygments_lexer": "ipython3",
   "version": "3.9.1"
  }
 },
 "nbformat": 4,
 "nbformat_minor": 5
}
